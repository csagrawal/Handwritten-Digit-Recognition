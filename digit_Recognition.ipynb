{
 "cells": [
  {
   "cell_type": "code",
   "execution_count": 1,
   "metadata": {},
   "outputs": [],
   "source": [
    "from sklearn.datasets import load_digits\n",
    "from sklearn.preprocessing import StandardScaler\n",
    "import numpy as np\n",
    "import matplotlib.pyplot as plt"
   ]
  },
  {
   "cell_type": "code",
   "execution_count": 2,
   "metadata": {},
   "outputs": [
    {
     "data": {
      "image/png": "[encoded data removed]",
      "text/plain": [
       "<Figure size 216x216 with 1 Axes>"
      ]
     },
     "metadata": {
      "needs_background": "light"
     },
     "output_type": "display_data"
    }
   ],
   "source": [
    "digits = load_digits()\n",
    "#Sample image show\n",
    "random_index = 108\n",
    "plt.figure(figsize=(3,3))\n",
    "\n",
    "plt.imshow(digits.images[random_index], cmap=plt.cm.gray_r, interpolation='nearest')\n",
    "plt.title(\"image label: %d\" % digits.target[random_index]);"
   ]
  },
  {
   "cell_type": "code",
   "execution_count": 3,
   "metadata": {},
   "outputs": [],
   "source": [
    "from sklearn.model_selection import train_test_split\n",
    "\n",
    "data_image = np.asarray(digits.data,dtype='float32')\n",
    "target_label = np.asarray(digits.target,dtype='float32')\n",
    "x_train,x_test,y_train,y_test = train_test_split(data_image,target_label,test_size=0.15,random_state=36)"
   ]
  },
  {
   "cell_type": "code",
   "execution_count": 4,
   "metadata": {},
   "outputs": [
    {
     "name": "stdout",
     "output_type": "stream",
     "text": [
      "Input training data : (1527, 64)\n",
      "Input test data : (270, 64)\n",
      "Output training data : (1527,)\n",
      "Output test data : (270,)\n"
     ]
    }
   ],
   "source": [
    "#displaying the sizes of train and test data\n",
    "\n",
    "print(\"Input training data :\", x_train.shape)\n",
    "print(\"Input test data :\", x_test.shape)\n",
    "print(\"Output training data :\", y_train.shape)\n",
    "print(\"Output test data :\", y_test.shape)"
   ]
  },
  {
   "cell_type": "code",
   "execution_count": 5,
   "metadata": {},
   "outputs": [
    {
     "name": "stdout",
     "output_type": "stream",
     "text": [
      "[[ 0.  0. 15. ...  1.  0.  0.]\n",
      " [ 0.  0.  6. ...  1.  0.  0.]\n",
      " [ 0.  0.  0. ...  9.  0.  0.]\n",
      " ...\n",
      " [ 0.  0. 11. ... 16. 16.  5.]\n",
      " [ 0.  0.  4. ...  0.  0.  0.]\n",
      " [ 0.  0.  0. ... 16.  8.  0.]] \n",
      " [[ 0.  0.  0. ... 12.  4.  0.]\n",
      " [ 0.  0.  0. ...  0.  0.  0.]\n",
      " [ 0.  0.  7. ...  3.  0.  0.]\n",
      " ...\n",
      " [ 0.  0.  1. ... 16.  8.  0.]\n",
      " [ 0.  0.  5. ... 16.  3.  0.]\n",
      " [ 0.  0.  3. ...  6.  0.  0.]]\n",
      "[ 0.  0. 15. 16. 11.  3.  0.  0.  0.  0.  4. 10. 15. 15.  3.  0.  0.  0.\n",
      "  0.  0. 14. 16.  5.  0.  0.  0.  0.  5. 16. 12.  0.  0.  0.  0.  0.  3.\n",
      " 16. 11.  1.  0.  0.  0.  0.  2. 13. 16.  9.  0.  0.  0.  6. 15. 16. 12.\n",
      "  3.  0.  0.  0. 15. 14.  7.  1.  0.  0.] \n",
      " [ 0.  0.  0. 12. 15.  1.  0.  0.  0.  0.  4. 16. 13.  1.  0.  0.  0.  1.\n",
      " 14. 15.  2.  0.  0.  0.  0.  4. 16. 15. 10.  7.  0.  0.  0.  7. 16. 16.\n",
      " 12. 16.  6.  0.  0.  3. 16. 13.  0. 16. 12.  0.  0.  0. 11. 16. 13. 16.\n",
      " 12.  0.  0.  0.  1.  9. 13. 12.  4.  0.]\n"
     ]
    }
   ],
   "source": [
    "print(x_train,\"\\n\",x_test)\n",
    "print(x_train[0],\"\\n\",x_test[0])"
   ]
  },
  {
   "cell_type": "code",
   "execution_count": 6,
   "metadata": {},
   "outputs": [
    {
     "data": {
      "text/plain": [
       "array([0.        , 0.99999577, 1.0000014 , 0.9999987 , 0.9999978 ,\n",
       "       0.9999981 , 0.9999933 , 0.9999895 , 0.99999654, 1.000003  ,\n",
       "       0.99999964, 0.99999917, 1.0000023 , 1.000002  , 0.9999937 ,\n",
       "       0.99999166, 0.9999893 , 0.9999955 , 0.999999  , 0.9999985 ,\n",
       "       1.0000029 , 1.000002  , 0.99999416, 1.000001  , 0.9999962 ,\n",
       "       0.99999624, 0.99999636, 1.0000018 , 0.9999989 , 0.9999994 ,\n",
       "       1.0000037 , 0.99999404, 0.        , 0.9999948 , 0.9999989 ,\n",
       "       0.99999946, 0.9999993 , 1.0000005 , 0.9999958 , 0.        ,\n",
       "       0.999994  , 0.9999977 , 1.0000013 , 0.9999995 , 0.99999917,\n",
       "       1.0000027 , 1.0000035 , 1.0000051 , 0.9999947 , 1.0000073 ,\n",
       "       0.99999905, 1.000001  , 1.000001  , 1.0000007 , 1.0000027 ,\n",
       "       1.0000011 , 0.9999865 , 0.9999913 , 0.9999975 , 1.0000013 ,\n",
       "       1.0000029 , 0.9999988 , 1.000004  , 1.0000015 ], dtype=float32)"
      ]
     },
     "execution_count": 6,
     "metadata": {},
     "output_type": "execute_result"
    }
   ],
   "source": [
    "#data preprocessing\n",
    "\n",
    "from sklearn import preprocessing\n",
    "\n",
    "scaler = preprocessing.StandardScaler()\n",
    "X_train = scaler.fit_transform(x_train)\n",
    "X_test = scaler.transform(x_test)\n",
    "\n",
    "X_train.mean(axis=0)\n",
    "X_train.std(axis=0)"
   ]
  },
  {
   "cell_type": "code",
   "execution_count": 7,
   "metadata": {},
   "outputs": [
    {
     "data": {
      "image/png": "[encoded data removed]",
      "text/plain": [
       "<Figure size 216x216 with 1 Axes>"
      ]
     },
     "metadata": {
      "needs_background": "light"
     },
     "output_type": "display_data"
    }
   ],
   "source": [
    "#display transformed image\n",
    "random_index = 108\n",
    "plt.figure(figsize=(3,3))\n",
    "plt.imshow(X_train[random_index].reshape(8,8),cmap=plt.cm.gray_r,interpolation=\"nearest\")\n",
    "plt.title(\"transformed image sample\\n(Standardization)\");"
   ]
  },
  {
   "cell_type": "code",
   "execution_count": 8,
   "metadata": {},
   "outputs": [],
   "source": [
    "#Converting target into one-hot encoding values\n",
    "\n",
    "from tensorflow.keras.utils import to_categorical\n",
    "\n",
    "Y_train = to_categorical(y_train)"
   ]
  },
  {
   "cell_type": "code",
   "execution_count": 9,
   "metadata": {},
   "outputs": [
    {
     "data": {
      "text/plain": [
       "(1527, 10)"
      ]
     },
     "execution_count": 9,
     "metadata": {},
     "output_type": "execute_result"
    }
   ],
   "source": [
    "Y_train.shape"
   ]
  },
  {
   "cell_type": "code",
   "execution_count": 10,
   "metadata": {},
   "outputs": [
    {
     "name": "stdout",
     "output_type": "stream",
     "text": [
      "Train on 1221 samples, validate on 306 samples\n",
      "WARNING:tensorflow:From C:\\Users\\Chanchal Agrawal\\Anaconda3\\lib\\site-packages\\tensorflow\\python\\ops\\math_grad.py:1250: add_dispatch_support.<locals>.wrapper (from tensorflow.python.ops.array_ops) is deprecated and will be removed in a future version.\n",
      "Instructions for updating:\n",
      "Use tf.where in 2.0, which has the same broadcast rule as np.where\n",
      "Epoch 1/25\n",
      "1221/1221 [==============================] - 0s 364us/sample - loss: 1.3351 - acc: 0.7158 - val_loss: 0.7528 - val_acc: 0.8856\n",
      "Epoch 2/25\n",
      "1221/1221 [==============================] - 0s 209us/sample - loss: 0.5707 - acc: 0.9124 - val_loss: 0.4784 - val_acc: 0.9248\n",
      "Epoch 3/25\n",
      "1221/1221 [==============================] - 0s 217us/sample - loss: 0.3948 - acc: 0.9353 - val_loss: 0.3734 - val_acc: 0.9379\n",
      "Epoch 4/25\n",
      "1221/1221 [==============================] - 0s 224us/sample - loss: 0.3122 - acc: 0.9402 - val_loss: 0.3136 - val_acc: 0.9444\n",
      "Epoch 5/25\n",
      "1221/1221 [==============================] - 0s 237us/sample - loss: 0.2641 - acc: 0.9509 - val_loss: 0.2751 - val_acc: 0.9477\n",
      "Epoch 6/25\n",
      "1221/1221 [==============================] - 0s 210us/sample - loss: 0.2322 - acc: 0.9574 - val_loss: 0.2493 - val_acc: 0.9542\n",
      "Epoch 7/25\n",
      "1221/1221 [==============================] - 0s 232us/sample - loss: 0.2083 - acc: 0.9607 - val_loss: 0.2294 - val_acc: 0.9542\n",
      "Epoch 8/25\n",
      "1221/1221 [==============================] - 0s 234us/sample - loss: 0.1905 - acc: 0.9631 - val_loss: 0.2124 - val_acc: 0.9575\n",
      "Epoch 9/25\n",
      "1221/1221 [==============================] - 0s 220us/sample - loss: 0.1762 - acc: 0.9681 - val_loss: 0.1991 - val_acc: 0.9608\n",
      "Epoch 10/25\n",
      "1221/1221 [==============================] - 0s 224us/sample - loss: 0.1641 - acc: 0.9689 - val_loss: 0.1888 - val_acc: 0.9641\n",
      "Epoch 11/25\n",
      "1221/1221 [==============================] - 0s 222us/sample - loss: 0.1539 - acc: 0.9713 - val_loss: 0.1814 - val_acc: 0.9706\n",
      "Epoch 12/25\n",
      "1221/1221 [==============================] - 0s 229us/sample - loss: 0.1452 - acc: 0.9722 - val_loss: 0.1742 - val_acc: 0.9706\n",
      "Epoch 13/25\n",
      "1221/1221 [==============================] - 0s 233us/sample - loss: 0.1378 - acc: 0.9730 - val_loss: 0.1679 - val_acc: 0.9706\n",
      "Epoch 14/25\n",
      "1221/1221 [==============================] - 0s 241us/sample - loss: 0.1310 - acc: 0.9762 - val_loss: 0.1619 - val_acc: 0.9771\n",
      "Epoch 15/25\n",
      "1221/1221 [==============================] - 0s 242us/sample - loss: 0.1252 - acc: 0.9771 - val_loss: 0.1576 - val_acc: 0.9771\n",
      "Epoch 16/25\n",
      "1221/1221 [==============================] - 0s 252us/sample - loss: 0.1199 - acc: 0.9771 - val_loss: 0.1534 - val_acc: 0.9771\n",
      "Epoch 17/25\n",
      "1221/1221 [==============================] - 0s 291us/sample - loss: 0.1151 - acc: 0.9795 - val_loss: 0.1501 - val_acc: 0.9771\n",
      "Epoch 18/25\n",
      "1221/1221 [==============================] - 0s 294us/sample - loss: 0.1107 - acc: 0.9795 - val_loss: 0.1473 - val_acc: 0.9771\n",
      "Epoch 19/25\n",
      "1221/1221 [==============================] - 0s 279us/sample - loss: 0.1066 - acc: 0.9795 - val_loss: 0.1442 - val_acc: 0.9771\n",
      "Epoch 20/25\n",
      "1221/1221 [==============================] - 0s 231us/sample - loss: 0.1030 - acc: 0.9787 - val_loss: 0.1422 - val_acc: 0.9771\n",
      "Epoch 21/25\n",
      "1221/1221 [==============================] - 0s 249us/sample - loss: 0.0996 - acc: 0.9828 - val_loss: 0.1392 - val_acc: 0.9771\n",
      "Epoch 22/25\n",
      "1221/1221 [==============================] - 0s 238us/sample - loss: 0.0963 - acc: 0.9836 - val_loss: 0.1376 - val_acc: 0.9771\n",
      "Epoch 23/25\n",
      "1221/1221 [==============================] - 0s 235us/sample - loss: 0.0933 - acc: 0.9844 - val_loss: 0.1353 - val_acc: 0.9739\n",
      "Epoch 24/25\n",
      "1221/1221 [==============================] - 0s 231us/sample - loss: 0.0906 - acc: 0.9853 - val_loss: 0.1334 - val_acc: 0.9739\n",
      "Epoch 25/25\n",
      "1221/1221 [==============================] - 0s 244us/sample - loss: 0.0880 - acc: 0.9853 - val_loss: 0.1319 - val_acc: 0.9739\n"
     ]
    }
   ],
   "source": [
    "#Building feed forward Network \n",
    "\n",
    "from tensorflow.keras.models import Sequential\n",
    "from tensorflow.keras.layers import Dense\n",
    "from tensorflow.keras import optimizers\n",
    "import tensorflow as tf\n",
    "# import tensorflow.keras.backend\n",
    "tf.compat.v1.enable_eager_execution()\n",
    "\n",
    "\n",
    "input_dim = X_train.shape[1]\n",
    "output_dim = Y_train.shape[1]\n",
    "hidden_dim=1000\n",
    "\n",
    "\n",
    "model = Sequential()\n",
    "model.add(Dense(hidden_dim,input_dim=input_dim,activation=\"tanh\"))\n",
    "model.add(Dense(hidden_dim,activation=\"tanh\"))\n",
    "model.add(Dense(output_dim, activation=\"softmax\"))\n",
    "\n",
    "# from tensorflow.keras import initializers\n",
    "\n",
    "# normal_init = initializers.TruncatedNormal(stddev=0)\n",
    "\n",
    "# model = Sequential()\n",
    "# model.add(Dense(hidden_dim, input_dim=input_dim, activation=\"tanh\", kernel_initializer=normal_init))\n",
    "# model.add(Dense(hidden_dim, activation=\"tanh\", kernel_initializer=normal_init))\n",
    "# model.add(Dense(output_dim, activation=\"softmax\", kernel_initializer=normal_init))\n",
    "# model.compile(optimizer=optimizers.Adam(learning_rate=0.1),  loss='categorical_crossentropy', metrics=['accuracy'])\n",
    "# model.layers\n",
    "# model.layers[0].weights\n",
    "# w = model.layers[0].weights[0].numpy()\n",
    "# b = model.layers[0].weights[1].numpy()\n",
    "# history = model.fit(X_train, Y_train, validation_split=0.2, epochs=15, batch_size=32)\n",
    "\n",
    "# plt.figure(figsize=(12, 4))\n",
    "# plt.plot(history.history['loss'], label=\"Truncated Normal init\")\n",
    "# plt.legend();\n",
    "\n",
    "model.compile(optimizer=optimizers.SGD(learning_rate = 0.01), loss=\"categorical_crossentropy\", metrics = ['accuracy'])\n",
    "\n",
    "history = model.fit(X_train, Y_train, validation_split = 0.2, epochs=25, batch_size=32)\n",
    "\n"
   ]
  },
  {
   "cell_type": "code",
   "execution_count": 11,
   "metadata": {},
   "outputs": [
    {
     "name": "stdout",
     "output_type": "stream",
     "text": [
      "Task : 2D - Using Adam with Relu\n"
     ]
    },
    {
     "data": {
      "text/plain": [
       "<matplotlib.axes._subplots.AxesSubplot at 0x1695f6bc8c8>"
      ]
     },
     "execution_count": 11,
     "metadata": {},
     "output_type": "execute_result"
    },
    {
     "data": {
      "image/png": "[encoded data removed]",
      "text/plain": [
       "<Figure size 864x432 with 2 Axes>"
      ]
     },
     "metadata": {
      "needs_background": "light"
     },
     "output_type": "display_data"
    }
   ],
   "source": [
    "#Visualizing the Convergence\n",
    "import pandas as pd\n",
    "\n",
    "print(\"Task : 2D - Using Adam with Relu\")\n",
    "history_df = pd.DataFrame(history.history)\n",
    "history_df[\"epoch\"] = history.epoch\n",
    "fig,(ax0,ax1) = plt.subplots(nrows=2,sharex=True, figsize=(12,6))\n",
    "history_df.plot(x=\"epoch\",y=[\"loss\",\"val_loss\"],ax=ax0)\n",
    "history_df.plot(x=\"epoch\",y=[\"acc\",\"val_acc\"],ax=ax1)"
   ]
  },
  {
   "cell_type": "code",
   "execution_count": 12,
   "metadata": {},
   "outputs": [],
   "source": [
    " y_predicted = np.argmax(model.predict(x_test, verbose=0), axis=1)"
   ]
  },
  {
   "cell_type": "code",
   "execution_count": 13,
   "metadata": {},
   "outputs": [
    {
     "name": "stdout",
     "output_type": "stream",
     "text": [
      "test acc: 0.8259\n"
     ]
    },
    {
     "data": {
      "image/png": "[encoded data removed]",
      "text/plain": [
       "<Figure size 864x648 with 15 Axes>"
      ]
     },
     "metadata": {
      "needs_background": "light"
     },
     "output_type": "display_data"
    }
   ],
   "source": [
    "fig, axes = plt.subplots(ncols=5, nrows=3, figsize=(12, 9))\n",
    "for i, ax in enumerate(axes.ravel()):\n",
    "    ax.imshow(scaler.inverse_transform(X_test[i:i+1]).reshape(8, 8), cmap=plt.cm.gray_r, interpolation='nearest')\n",
    "    ax.set_title(\"predicted label: %d\\n true label: %d\" % (y_predicted[i], y_test[i]))\n",
    "print(\"test acc: %0.4f\" % np.mean(y_predicted == y_test))\n",
    "\n",
    "\n",
    "#Task 3A and 3B - test and accuracy"
   ]
  },
  {
   "cell_type": "code",
   "execution_count": null,
   "metadata": {},
   "outputs": [],
   "source": []
  }
 ],
 "metadata": {
  "kernelspec": {
   "display_name": "Python 3",
   "language": "python",
   "name": "python3"
  },
  "language_info": {
   "codemirror_mode": {
    "name": "ipython",
    "version": 3
   },
   "file_extension": ".py",
   "mimetype": "text/x-python",
   "name": "python",
   "nbconvert_exporter": "python",
   "pygments_lexer": "ipython3",
   "version": "3.7.4"
  }
 },
 "nbformat": 4,
 "nbformat_minor": 2
}
